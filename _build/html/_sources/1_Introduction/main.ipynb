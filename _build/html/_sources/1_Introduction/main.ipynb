{
 "cells": [
  {
   "cell_type": "markdown",
   "metadata": {},
   "source": [
    "(1-chap:introduction)=\n",
    "# Introduction\n",
    "\n",
    "[Intro](1-sec:intro) answers natural questions such as: what is the book about, at whom it is aimed, and how to read it.\n",
    "{ref}`1-sec:simple` defines a first model of games, which is the common denominator of (almost all) models studied in this book.\n",
    "\n",
    "We introduce the computational models that we use in [Computation](1-sec:computation) and briefly define linear programming.\n",
    "In [Conditions](1-sec:conditions) we list the main objectives appearing in all chapters.\n",
    "A few notions will be useful throughout the book: they are developed in this chapter.\n",
    "We start with the notion of automata, discussed in [Automata](1-sec:automata), and then memory for strategies, in [Memory](1-sec:memory).\n",
    "We then show how automata and memory structures can be used to construct reductions between games in [Reductions](1-sec:reductions).\n",
    "We introduce in [Subgames](1-sec:subgames) the notions of subgames and traps.\n",
    "\n",
    "The notion of fixed point algorithms is central to the study of games.\n",
    "We first recall the main two methods for proving the existence and computing fixed points in [Fixed points](1-sec:fixed_points).\n",
    "We then give an overview of two prominent families of fixed point algorithms for games:\n",
    "value iteration algorithms in [Value iteration algorithms](1-sec:value_iteration) and strategy improvement algorithms in [Strategy improvement algorithms](1-sec:strategy_improvement).\n",
    "\n",
    "\n",
    "\n",
    "\n",
    "```{toctree}\n",
    ":hidden:\n",
    ":titlesonly:\n",
    "\n",
    "\n",
    "intro\n",
    "simple\n",
    "references\n",
    "```"
   ]
  }
 ],
 "metadata": {
  "jupytext": {
   "text_representation": {
    "extension": ".md",
    "format_name": "myst"
   }
  },
  "kernelspec": {
   "display_name": "Python 3",
   "language": "python",
   "name": "python3"
  },
  "language_info": {
   "codemirror_mode": {
    "name": "ipython",
    "version": 3
   },
   "file_extension": ".py",
   "mimetype": "text/x-python",
   "name": "python",
   "nbconvert_exporter": "python",
   "pygments_lexer": "ipython3",
   "version": "3.8.5"
  },
  "source_map": [
   10
  ]
 },
 "nbformat": 4,
 "nbformat_minor": 4
}