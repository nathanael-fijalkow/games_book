{
 "cells": [
  {
   "cell_type": "markdown",
   "metadata": {},
   "source": [
    "(book)=\n",
    "# Games on Graphs\n",
    "\n",
    "```{image} cover.jpg\n",
    ":alt: logo\n",
    ":class: bg-primary mb-1\n",
    ":width: 400px\n",
    ":align: center\n",
    "```\n",
    "\n",
    "## Table of contents\n",
    "```{tableofcontents}\n",
    "```\n",
    "\n",
    "## Authors\n",
    "Coordinated by Nathana&euml;l Fijalkow\n",
    "\n",
    "Written by (in alphabetical order):\n",
    "Nathalie Bertrand, Romain Brenguier, Patricia Bouyer-Decitre, Arnaud Carayol, John Fearnley, Nathana&euml;l Fijalkow, Hugo Gimbert, Florian Horn, Rasmus Ibsen-Jensen, Nicolas Markey, Benjamin Monmege, Petr Novotny, Mickael Randour, Ocan Sankur, Sylvain Schmitz, Olivier Serre\n",
    "\n",
    "\n",
    "\n",
    "\n",
    "```{toctree}\n",
    ":hidden:\n",
    ":titlesonly:\n",
    ":caption: Introduction\n",
    "\n",
    "1_Introduction/index\n",
    "```\n",
    "\n",
    "\n",
    "```{toctree}\n",
    ":hidden:\n",
    ":titlesonly:\n",
    ":caption: Classic\n",
    "\n",
    "2_Regular/index\n",
    "3_Parity/index\n",
    "4_Payoffs/index\n",
    "```\n",
    "\n",
    "\n",
    "```{toctree}\n",
    ":hidden:\n",
    ":titlesonly:\n",
    ":caption: Stochastic\n",
    "\n",
    "5_MDP/index\n",
    "6_Stochastic/index\n",
    "```\n",
    "\n",
    "\n",
    "```{toctree}\n",
    ":hidden:\n",
    ":titlesonly:\n",
    ":caption: Information\n",
    "\n",
    "7_Concurrent/index\n",
    "8_Imperfect/index\n",
    "```"
   ]
  }
 ],
 "metadata": {
  "jupytext": {
   "text_representation": {
    "extension": ".md",
    "format_name": "myst"
   }
  },
  "kernelspec": {
   "display_name": "Python 3",
   "language": "python",
   "name": "python3"
  },
  "language_info": {
   "codemirror_mode": {
    "name": "ipython",
    "version": 3
   },
   "file_extension": ".py",
   "mimetype": "text/x-python",
   "name": "python",
   "nbconvert_exporter": "python",
   "pygments_lexer": "ipython3",
   "version": "3.8.5"
  },
  "source_map": [
   10
  ]
 },
 "nbformat": 4,
 "nbformat_minor": 4
}