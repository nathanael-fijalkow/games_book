{
 "cells": [
  {
   "cell_type": "markdown",
   "metadata": {},
   "source": [
    "(book)=\n",
    "# Games on Graphs\n",
    "\n",
    "\n",
    "That's the entry point to the book. Maybe a little logo?\n",
    "\n",
    "```{prf:axiom} Completeness of $\\mathbb{R}$\n",
    ":label: my-axiom\n",
    "\n",
    "Every Cauchy sequence on the real line is convergent.\n",
    "```\n",
    "\n",
    "\n",
    "```{image} cover.jpg\n",
    ":alt: logo\n",
    ":class: bg-primary mb-1\n",
    ":width: 400px\n",
    ":align: center\n",
    "```\n",
    "\n",
    "\n",
    "\n",
    "```{toctree}\n",
    ":hidden:\n",
    ":titlesonly:\n",
    ":caption: Introduction\n",
    "\n",
    "1_Introduction/main\n",
    "```\n",
    "\n",
    "\n",
    "```{toctree}\n",
    ":hidden:\n",
    ":titlesonly:\n",
    ":caption: Classical\n",
    "\n",
    "2_Regular/main\n",
    "3_Parity/main\n",
    "4_Payoffs/main\n",
    "```"
   ]
  }
 ],
 "metadata": {
  "jupytext": {
   "text_representation": {
    "extension": ".md",
    "format_name": "myst"
   }
  },
  "kernelspec": {
   "display_name": "Python 3",
   "language": "python",
   "name": "python3"
  },
  "language_info": {
   "codemirror_mode": {
    "name": "ipython",
    "version": 3
   },
   "file_extension": ".py",
   "mimetype": "text/x-python",
   "name": "python",
   "nbconvert_exporter": "python",
   "pygments_lexer": "ipython3",
   "version": "3.8.5"
  },
  "source_map": [
   10
  ]
 },
 "nbformat": 4,
 "nbformat_minor": 4
}